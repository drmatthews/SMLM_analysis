{
 "cells": [
  {
   "cell_type": "code",
   "execution_count": 2,
   "metadata": {},
   "outputs": [],
   "source": [
    "import numpy as np\n",
    "import holoviews as hv\n",
    "from holoviews import opts\n",
    "import holoviews.plotting.bokeh\n",
    "\n",
    "renderer = hv.renderer('bokeh')\n",
    "\n",
    "# import pims\n",
    "# import nd2reader"
   ]
  },
  {
   "cell_type": "code",
   "execution_count": 4,
   "metadata": {},
   "outputs": [],
   "source": [
    "path = '..\\\\..\\\\test_data\\\\tubulin647 2d.nd2'\n",
    "movie = pims.open(path)"
   ]
  },
  {
   "cell_type": "code",
   "execution_count": 9,
   "metadata": {},
   "outputs": [
    {
     "data": {
      "text/plain": [
       "(256, 256)"
      ]
     },
     "execution_count": 9,
     "metadata": {},
     "output_type": "execute_result"
    }
   ],
   "source": [
    "movie.frame_shape"
   ]
  },
  {
   "cell_type": "code",
   "execution_count": 10,
   "metadata": {},
   "outputs": [],
   "source": [
    "def timeseries(frame):\n",
    "    ds = hv.Dataset(\n",
    "        (np.arange(movie.frame_shape[0]), np.arange(movie.frame_shape[1]), movie[frame]),\n",
    "        ['x', 'y'], 'Fluorescence'\n",
    "    )\n",
    "    im = ds.to(hv.Image, ['x', 'y'])\n",
    "    return im.opts(width=500, height=500, cmap='viridis')"
   ]
  },
  {
   "cell_type": "code",
   "execution_count": 15,
   "metadata": {},
   "outputs": [],
   "source": [
    "dmap = hv.DynamicMap(timeseries, kdims=['frame'])\n",
    "# dmap.redim.range(frame=(0, movie.sizes['t'] - 1))"
   ]
  },
  {
   "cell_type": "code",
   "execution_count": 17,
   "metadata": {},
   "outputs": [
    {
     "data": {
      "application/vnd.bokehjs_exec.v0+json": "",
      "text/html": [
       "\n",
       "<script src=\"http://localhost:62213/autoload.js?bokeh-autoload-element=1717&bokeh-absolute-url=http://localhost:62213&resources=none\" id=\"1717\"></script>"
      ]
     },
     "metadata": {
      "application/vnd.bokehjs_exec.v0+json": {
       "server_id": "1769052faefa41adb91f9c6bcfc1245e"
      }
     },
     "output_type": "display_data"
    },
    {
     "name": "stderr",
     "output_type": "stream",
     "text": [
      "WARNING:bokeh.core.validation.check:W-1005 (FIXED_SIZING_MODE): 'fixed' sizing mode requires width and height to be set: Row(id='1765', ...)\n",
      "WARNING:bokeh.core.validation.check:W-1005 (FIXED_SIZING_MODE): 'fixed' sizing mode requires width and height to be set: WidgetBox(id='1764', ...)\n"
     ]
    }
   ],
   "source": [
    "renderer.app(dmap.redim.range(frame=(0, movie.sizes['t'] - 1)), show=True, websocket_origin='localhost:8889')"
   ]
  },
  {
   "cell_type": "code",
   "execution_count": 7,
   "metadata": {},
   "outputs": [],
   "source": [
    "from smlm_analysis.apps import movie_app as ma"
   ]
  },
  {
   "cell_type": "code",
   "execution_count": 8,
   "metadata": {},
   "outputs": [],
   "source": [
    "path = '..\\\\..\\\\test_data\\\\tubulin647 2d.nd2'\n",
    "dmap = movie_app.MovieApp().create_dmap(path)"
   ]
  },
  {
   "cell_type": "code",
   "execution_count": 10,
   "metadata": {},
   "outputs": [
    {
     "data": {
      "application/vnd.bokehjs_exec.v0+json": "",
      "text/html": [
       "\n",
       "<script src=\"http://localhost:62653/autoload.js?bokeh-autoload-element=1001&bokeh-absolute-url=http://localhost:62653&resources=none\" id=\"1001\"></script>"
      ]
     },
     "metadata": {
      "application/vnd.bokehjs_exec.v0+json": {
       "server_id": "9adfa9c1bf0b49e79bf3ef59e832092e"
      }
     },
     "output_type": "display_data"
    },
    {
     "name": "stderr",
     "output_type": "stream",
     "text": [
      "WARNING:bokeh.core.validation.check:W-1005 (FIXED_SIZING_MODE): 'fixed' sizing mode requires width and height to be set: Row(id='1049', ...)\n",
      "WARNING:bokeh.core.validation.check:W-1005 (FIXED_SIZING_MODE): 'fixed' sizing mode requires width and height to be set: WidgetBox(id='1048', ...)\n"
     ]
    }
   ],
   "source": [
    "renderer = ma.hv.renderer('bokeh')\n",
    "renderer.app(dmap, show=True, websocket_origin='localhost:8889')"
   ]
  },
  {
   "cell_type": "code",
   "execution_count": null,
   "metadata": {},
   "outputs": [],
   "source": []
  }
 ],
 "metadata": {
  "kernelspec": {
   "display_name": "Python 3",
   "language": "python",
   "name": "python3"
  },
  "language_info": {
   "codemirror_mode": {
    "name": "ipython",
    "version": 3
   },
   "file_extension": ".py",
   "mimetype": "text/x-python",
   "name": "python",
   "nbconvert_exporter": "python",
   "pygments_lexer": "ipython3",
   "version": "3.7.3"
  }
 },
 "nbformat": 4,
 "nbformat_minor": 2
}
